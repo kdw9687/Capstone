{
  "nbformat": 4,
  "nbformat_minor": 0,
  "metadata": {
    "colab": {
      "name": "nueral",
      "provenance": [],
      "collapsed_sections": [],
      "authorship_tag": "ABX9TyN1+qPNeAe1+NQViCHjRkw/",
      "include_colab_link": true
    },
    "kernelspec": {
      "name": "python3",
      "display_name": "Python 3"
    },
    "language_info": {
      "name": "python"
    },
    "accelerator": "GPU"
  },
  "cells": [
    {
      "cell_type": "markdown",
      "metadata": {
        "id": "view-in-github",
        "colab_type": "text"
      },
      "source": [
        "<a href=\"https://colab.research.google.com/github/kdw9687/Capstone/blob/master/nueral.ipynb\" target=\"_parent\"><img src=\"https://colab.research.google.com/assets/colab-badge.svg\" alt=\"Open In Colab\"/></a>"
      ]
    },
    {
      "cell_type": "code",
      "metadata": {
        "colab": {
          "base_uri": "https://localhost:8080/"
        },
        "id": "dtf3yucHy6x2",
        "outputId": "887aa2c1-97c6-4f7a-ef6a-70a9837c6879"
      },
      "source": [
        "import tensorflow as tf\n",
        "import pandas as pd\n",
        "import numpy as np\n",
        "from sklearn.model_selection import train_test_split\n",
        "from google.colab import drive\n",
        "from tensorflow.keras.models import Sequential\n",
        "from tensorflow.keras.layers import Dense\n",
        "from tensorflow.keras.utils import to_categorical\n",
        "drive.mount('/content/drive')\n",
        "import sys\n",
        "import numpy as np\n",
        "\n",
        "np.set_printoptions(threshold=sys.maxsize)"
      ],
      "execution_count": null,
      "outputs": [
        {
          "output_type": "stream",
          "text": [
            "Drive already mounted at /content/drive; to attempt to forcibly remount, call drive.mount(\"/content/drive\", force_remount=True).\n"
          ],
          "name": "stdout"
        }
      ]
    },
    {
      "cell_type": "code",
      "metadata": {
        "id": "f-gGSGoWzMeP"
      },
      "source": [
        "file='/content/drive/MyDrive/Colab Notebooks/데이터 판다스용완.csv'"
      ],
      "execution_count": null,
      "outputs": []
    },
    {
      "cell_type": "code",
      "metadata": {
        "id": "Sr7n_VFazWfM"
      },
      "source": [
        "data=pd.read_csv(file)"
      ],
      "execution_count": null,
      "outputs": []
    },
    {
      "cell_type": "code",
      "metadata": {
        "id": "DTTTzPbD0CJp"
      },
      "source": [
        "data=data.dropna()"
      ],
      "execution_count": null,
      "outputs": []
    },
    {
      "cell_type": "code",
      "metadata": {
        "id": "chh2hayt2uMO"
      },
      "source": [
        "data.drop(columns=['순번','장르','국적.1','연휴 및 기념일 상영 여부','수상'],inplace=True)\n",
        "data.set_index('영화명',inplace=True)\n",
        "target=data['전국 관객수']\n",
        "target.dropna(inplace=True)\n",
        "x=data.drop(columns=['전국 매출액','전국 관객수'])\n",
        "y=target"
      ],
      "execution_count": null,
      "outputs": []
    },
    {
      "cell_type": "code",
      "metadata": {
        "id": "-q6-JjE33bpt"
      },
      "source": [
        "for i in range(len(y)):\n",
        "  if y[i]>7000000:\n",
        "    y[i]=4\n",
        "  elif y[i]>5000000 and y[i]<=7000000:\n",
        "    y[i]=3\n",
        "  elif y[i]>3000000 and y[i]<=5000000:\n",
        "    y[i]=2\n",
        "  elif y[i]>1000000 and y[i]<=3000000:\n",
        "    y[i]=1\n",
        "  else:\n",
        "    y[i]=0\n",
        "  x=np.array(x)\n",
        "  y=np.array(y)"
      ],
      "execution_count": null,
      "outputs": []
    },
    {
      "cell_type": "code",
      "metadata": {
        "id": "d_hOZMsT5NCm"
      },
      "source": [
        "x_train,x_val,y_train,y_val=train_test_split(x,y,test_size=0.2,random_state=777)"
      ],
      "execution_count": null,
      "outputs": []
    },
    {
      "cell_type": "code",
      "metadata": {
        "id": "aZDsL9F-5nyk"
      },
      "source": [
        "y_train=to_categorical(y_train)\n",
        "y_val=to_categorical(y_val)"
      ],
      "execution_count": null,
      "outputs": []
    },
    {
      "cell_type": "code",
      "metadata": {
        "id": "_snbunfZ5YXg"
      },
      "source": [
        "model=Sequential()\n",
        "model.add(Dense(64, activation='relu',input_shape=(36,)))\n",
        "model.add(Dense(32, activation='relu'))\n",
        "model.add(Dense(5,activation='softmax'))"
      ],
      "execution_count": null,
      "outputs": []
    },
    {
      "cell_type": "code",
      "metadata": {
        "id": "OIeWa0oN6zTl"
      },
      "source": [
        "model.compile(optimizer='adam',loss='categorical_crossentropy',metrics=['acc'])"
      ],
      "execution_count": null,
      "outputs": []
    },
    {
      "cell_type": "code",
      "metadata": {
        "colab": {
          "base_uri": "https://localhost:8080/"
        },
        "id": "cE34DJsd7LSV",
        "outputId": "7ee9fa30-c1af-4d48-a3fd-d805212b2289"
      },
      "source": [
        "history=model.fit(x_train,y_train,epochs=30,batch_size=40,validation_data=(x_val,y_val))"
      ],
      "execution_count": null,
      "outputs": [
        {
          "output_type": "stream",
          "text": [
            "Epoch 1/30\n",
            "20/20 [==============================] - 1s 23ms/step - loss: 58.2044 - acc: 0.3130 - val_loss: 7.7081 - val_acc: 0.2900\n",
            "Epoch 2/30\n",
            "20/20 [==============================] - 0s 3ms/step - loss: 5.9485 - acc: 0.3961 - val_loss: 4.6681 - val_acc: 0.4800\n",
            "Epoch 3/30\n",
            "20/20 [==============================] - 0s 4ms/step - loss: 3.7441 - acc: 0.4772 - val_loss: 2.0391 - val_acc: 0.5700\n",
            "Epoch 4/30\n",
            "20/20 [==============================] - 0s 4ms/step - loss: 1.4497 - acc: 0.5416 - val_loss: 1.4751 - val_acc: 0.5300\n",
            "Epoch 5/30\n",
            "20/20 [==============================] - 0s 3ms/step - loss: 1.1434 - acc: 0.5711 - val_loss: 1.4014 - val_acc: 0.5550\n",
            "Epoch 6/30\n",
            "20/20 [==============================] - 0s 4ms/step - loss: 1.0916 - acc: 0.5500 - val_loss: 1.3296 - val_acc: 0.5300\n",
            "Epoch 7/30\n",
            "20/20 [==============================] - 0s 4ms/step - loss: 1.1814 - acc: 0.5165 - val_loss: 1.3510 - val_acc: 0.4450\n",
            "Epoch 8/30\n",
            "20/20 [==============================] - 0s 4ms/step - loss: 1.2230 - acc: 0.5110 - val_loss: 1.3329 - val_acc: 0.5550\n",
            "Epoch 9/30\n",
            "20/20 [==============================] - 0s 3ms/step - loss: 1.0556 - acc: 0.5835 - val_loss: 1.3473 - val_acc: 0.5050\n",
            "Epoch 10/30\n",
            "20/20 [==============================] - 0s 4ms/step - loss: 1.1526 - acc: 0.5443 - val_loss: 1.2968 - val_acc: 0.5650\n",
            "Epoch 11/30\n",
            "20/20 [==============================] - 0s 3ms/step - loss: 1.1870 - acc: 0.5284 - val_loss: 1.2704 - val_acc: 0.5650\n",
            "Epoch 12/30\n",
            "20/20 [==============================] - 0s 3ms/step - loss: 1.0509 - acc: 0.5457 - val_loss: 1.2587 - val_acc: 0.5050\n",
            "Epoch 13/30\n",
            "20/20 [==============================] - 0s 3ms/step - loss: 1.0943 - acc: 0.5245 - val_loss: 1.2615 - val_acc: 0.5550\n",
            "Epoch 14/30\n",
            "20/20 [==============================] - 0s 4ms/step - loss: 1.0797 - acc: 0.5553 - val_loss: 1.1777 - val_acc: 0.5950\n",
            "Epoch 15/30\n",
            "20/20 [==============================] - 0s 4ms/step - loss: 1.0602 - acc: 0.5555 - val_loss: 1.1778 - val_acc: 0.5650\n",
            "Epoch 16/30\n",
            "20/20 [==============================] - 0s 4ms/step - loss: 1.0556 - acc: 0.5595 - val_loss: 1.4873 - val_acc: 0.4650\n",
            "Epoch 17/30\n",
            "20/20 [==============================] - 0s 3ms/step - loss: 1.2516 - acc: 0.5130 - val_loss: 1.1328 - val_acc: 0.5550\n",
            "Epoch 18/30\n",
            "20/20 [==============================] - 0s 4ms/step - loss: 1.0610 - acc: 0.5792 - val_loss: 1.2858 - val_acc: 0.5550\n",
            "Epoch 19/30\n",
            "20/20 [==============================] - 0s 3ms/step - loss: 1.0974 - acc: 0.5637 - val_loss: 1.2694 - val_acc: 0.5350\n",
            "Epoch 20/30\n",
            "20/20 [==============================] - 0s 3ms/step - loss: 1.0722 - acc: 0.5523 - val_loss: 1.3816 - val_acc: 0.5200\n",
            "Epoch 21/30\n",
            "20/20 [==============================] - 0s 4ms/step - loss: 1.0937 - acc: 0.5535 - val_loss: 1.2029 - val_acc: 0.4750\n",
            "Epoch 22/30\n",
            "20/20 [==============================] - 0s 4ms/step - loss: 1.0610 - acc: 0.5332 - val_loss: 1.1271 - val_acc: 0.4800\n",
            "Epoch 23/30\n",
            "20/20 [==============================] - 0s 4ms/step - loss: 0.9852 - acc: 0.5806 - val_loss: 1.3438 - val_acc: 0.4700\n",
            "Epoch 24/30\n",
            "20/20 [==============================] - 0s 4ms/step - loss: 1.1099 - acc: 0.5369 - val_loss: 1.2470 - val_acc: 0.4700\n",
            "Epoch 25/30\n",
            "20/20 [==============================] - 0s 4ms/step - loss: 1.1087 - acc: 0.5747 - val_loss: 1.3570 - val_acc: 0.4450\n",
            "Epoch 26/30\n",
            "20/20 [==============================] - 0s 4ms/step - loss: 1.0965 - acc: 0.5765 - val_loss: 1.2880 - val_acc: 0.5750\n",
            "Epoch 27/30\n",
            "20/20 [==============================] - 0s 4ms/step - loss: 1.0737 - acc: 0.5795 - val_loss: 1.1678 - val_acc: 0.5150\n",
            "Epoch 28/30\n",
            "20/20 [==============================] - 0s 4ms/step - loss: 0.9745 - acc: 0.5728 - val_loss: 1.1192 - val_acc: 0.5500\n",
            "Epoch 29/30\n",
            "20/20 [==============================] - 0s 3ms/step - loss: 1.0563 - acc: 0.5872 - val_loss: 1.0675 - val_acc: 0.5700\n",
            "Epoch 30/30\n",
            "20/20 [==============================] - 0s 4ms/step - loss: 0.9451 - acc: 0.5868 - val_loss: 1.2140 - val_acc: 0.4850\n"
          ],
          "name": "stdout"
        }
      ]
    },
    {
      "cell_type": "code",
      "metadata": {
        "colab": {
          "base_uri": "https://localhost:8080/",
          "height": 350
        },
        "id": "az4LVKZ48YSB",
        "outputId": "c794d1a7-073b-4154-e5ad-550f3ee8eb00"
      },
      "source": [
        "import matplotlib.pyplot as plt\n",
        "his_dict=history.history\n",
        "loss=his_dict['loss']\n",
        "val_loss=his_dict['val_loss']\n",
        "epochs=range(1,len(loss)+1)\n",
        "fig=plt.figure(figsize=(10,5))\n",
        "ax1=fig.add_subplot(1,2,1)\n",
        "ax1.plot(epochs,loss,color='blue',label='train_loss')\n",
        "ax1.plot(epochs,val_loss,color='orange',label='val_loss')\n",
        "ax1.set_title('train and val loss')\n",
        "ax1.set_xlabel('epochs')\n",
        "ax1.set_ylabel('loss')\n",
        "ax1.legend()\n",
        "\n",
        "acc=his_dict['acc']\n",
        "val_acc=his_dict['val_acc']\n",
        "\n",
        "ax2=fig.add_subplot(1,2,2)\n",
        "ax2.plot(epochs,acc,color='blue',label='train_acc')\n",
        "ax2.plot(epochs,val_acc,color='orange',label='val_acc')\n",
        "ax2.set_title('train and val acc')\n",
        "ax2.set_xlabel('epochs')\n",
        "ax2.set_ylabel('acc')\n",
        "ax2.legend()\n",
        "plt.show()"
      ],
      "execution_count": null,
      "outputs": [
        {
          "output_type": "display_data",
          "data": {
            "image/png": "[encoded data removed]",
            "text/plain": [
              "<Figure size 720x360 with 2 Axes>"
            ]
          },
          "metadata": {
            "tags": [],
            "needs_background": "light"
          }
        }
      ]
    },
    {
      "cell_type": "code",
      "metadata": {
        "colab": {
          "base_uri": "https://localhost:8080/",
          "height": 442
        },
        "id": "mJ2dAqnnC739",
        "outputId": "a4d65ceb-cd1c-41ab-9a68-40de5fa816db"
      },
      "source": [
        "results=model.predict(x_val)\n",
        "from sklearn.metrics import classification_report, confusion_matrix\n",
        "import seaborn as sns\n",
        "\n",
        "plt.figure(figsize=(7,7))\n",
        "cm=confusion_matrix(np.argmax(y_val,axis=-1),np.argmax(results,axis=-1))\n",
        "sns.heatmap(cm,annot=True,fmt='d',cmap='Blues')\n",
        "plt.xlabel('predicted label')\n",
        "plt.ylabel('true label')\n",
        "plt.show()"
      ],
      "execution_count": null,
      "outputs": [
        {
          "output_type": "display_data",
          "data": {
            "image/png": "[encoded data removed]",
            "text/plain": [
              "<Figure size 504x504 with 2 Axes>"
            ]
          },
          "metadata": {
            "tags": [],
            "needs_background": "light"
          }
        }
      ]
    },
    {
      "cell_type": "code",
      "metadata": {
        "colab": {
          "base_uri": "https://localhost:8080/"
        },
        "id": "nYEaNXFuD6p0",
        "outputId": "37e9f2ab-fae9-4ae7-c053-4f48d94a186c"
      },
      "source": [
        "print('\\n',classification_report(np.argmax(y_val,axis=-1),np.argmax(results,axis=-1)))"
      ],
      "execution_count": null,
      "outputs": [
        {
          "output_type": "stream",
          "text": [
            "\n",
            "               precision    recall  f1-score   support\n",
            "\n",
            "           0       0.84      0.47      0.61        97\n",
            "           1       0.36      0.84      0.51        57\n",
            "           2       0.33      0.09      0.14        22\n",
            "           3       0.14      0.09      0.11        11\n",
            "           4       0.00      0.00      0.00        13\n",
            "\n",
            "    accuracy                           0.48       200\n",
            "   macro avg       0.34      0.30      0.27       200\n",
            "weighted avg       0.55      0.48      0.46       200\n",
            "\n"
          ],
          "name": "stdout"
        },
        {
          "output_type": "stream",
          "text": [
            "/usr/local/lib/python3.7/dist-packages/sklearn/metrics/_classification.py:1272: UndefinedMetricWarning: Precision and F-score are ill-defined and being set to 0.0 in labels with no predicted samples. Use `zero_division` parameter to control this behavior.\n",
            "  _warn_prf(average, modifier, msg_start, len(result))\n"
          ],
          "name": "stderr"
        }
      ]
    },
    {
      "cell_type": "code",
      "metadata": {
        "id": "LEBZo5qRFXaZ"
      },
      "source": [
        ""
      ],
      "execution_count": null,
      "outputs": []
    }
  ]
}